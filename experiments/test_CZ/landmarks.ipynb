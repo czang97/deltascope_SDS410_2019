{
 "cells": [
  {
   "cell_type": "markdown",
   "metadata": {},
   "source": [
    "# Introduction: Landmarks"
   ]
  },
  {
   "cell_type": "code",
   "execution_count": 1,
   "metadata": {},
   "outputs": [],
   "source": [
    "import deltascope as ds\n",
    "import deltascope.alignment as ut\n",
    "\n",
    "import numpy as np\n",
    "import pandas as pd\n",
    "import matplotlib.pyplot as plt\n",
    "\n",
    "from sklearn.preprocessing import normalize\n",
    "from scipy.optimize import minimize\n",
    "\n",
    "import os\n",
    "import tqdm\n",
    "import json\n",
    "import time"
   ]
  },
  {
   "cell_type": "markdown",
   "metadata": {},
   "source": [
    "Specify matplotlib plots to be interactive"
   ]
  },
  {
   "cell_type": "code",
   "execution_count": 2,
   "metadata": {},
   "outputs": [],
   "source": [
    "%matplotlib inline"
   ]
  },
  {
   "cell_type": "markdown",
   "metadata": {},
   "source": [
    "# Import raw data\n",
    "The user needs to specify the directories containing the data of interest. Each sample type should have a key which corresponds to the directory path. Additionally, each object should have a list that includes the channels of interest."
   ]
  },
  {
   "cell_type": "code",
   "execution_count": 5,
   "metadata": {},
   "outputs": [],
   "source": [
    "# --------------------------------\n",
    "# -------- User input ------------\n",
    "# --------------------------------\n",
    "\n",
    "data = {\n",
    "    # Specify sample type key\n",
    "    'wt': {\n",
    "        # Specify path to data directory\n",
    "        'path': 'Output_02-18-08-22',\n",
    "        # Specify which channels are in the directory and are of interest\n",
    "        'channels': ['AT','ZRF']\n",
    "    }\n",
    "}"
   ]
  },
  {
   "cell_type": "markdown",
   "metadata": {},
   "source": [
    "We'll generate a list of pairs of stypes and channels for ease of use."
   ]
  },
  {
   "cell_type": "code",
   "execution_count": 6,
   "metadata": {},
   "outputs": [],
   "source": [
    "data_pairs = []\n",
    "for s in data.keys():\n",
    "    for c in data[s]['channels']:\n",
    "        data_pairs.append((s,c))"
   ]
  },
  {
   "cell_type": "code",
   "execution_count": 6,
   "metadata": {},
   "outputs": [
    {
     "data": {
      "text/plain": [
       "[('wt', 'AT'), ('wt', 'ZRF')]"
      ]
     },
     "execution_count": 6,
     "metadata": {},
     "output_type": "execute_result"
    }
   ],
   "source": [
    "data_pairs"
   ]
  },
  {
   "cell_type": "markdown",
   "metadata": {},
   "source": [
    "We can now read in all datafiles specified by the `data` dictionary above."
   ]
  },
  {
   "cell_type": "code",
   "execution_count": 7,
   "metadata": {},
   "outputs": [
    {
     "name": "stderr",
     "output_type": "stream",
     "text": [
      "100%|██████████| 4/4 [00:00<00:00,  7.62it/s]\n",
      "100%|██████████| 4/4 [00:00<00:00,  7.44it/s]\n"
     ]
    }
   ],
   "source": [
    "D = {}\n",
    "for s in data.keys():\n",
    "    D[s] = {}\n",
    "    for c in data[s]['channels']:\n",
    "        D[s][c] = ds.read_psi_to_dict(data[s]['path'],c)"
   ]
  },
  {
   "cell_type": "markdown",
   "metadata": {},
   "source": [
    "# Calculate optimum landmark parameters\n",
    "Choose a single sample type and channel which will be used as the control to calculate the appropriate size of landmark bins. Typically we use wildtype samples and the AT channel. We will run a parameter sweep of bin sizes using `ds.anumSelect`."
   ]
  },
  {
   "cell_type": "code",
   "execution_count": 14,
   "metadata": {},
   "outputs": [],
   "source": [
    "# --------------------------------\n",
    "# -------- User input ------------\n",
    "# --------------------------------\n",
    "\n",
    "# Specify stype to use as control\n",
    "s_ctrl = 'wt'\n",
    "# Specify channel to use as control\n",
    "c_ctrl = 'AT'\n",
    "\n",
    "# Specify size of theta bins\n",
    "theta_step = np.pi/4\n",
    "# Specify the step size when sweeping various alpha bin sizes\n",
    "astep = 3\n",
    "# Specify minimum a value \n",
    "amn = 2\n",
    "# Specify maximum a value\n",
    "amx = 100"
   ]
  },
  {
   "cell_type": "code",
   "execution_count": 15,
   "metadata": {},
   "outputs": [
    {
     "name": "stdout",
     "output_type": "stream",
     "text": [
      "2 calculation complete\n",
      "5 calculation complete\n"
     ]
    },
    {
     "name": "stderr",
     "output_type": "stream",
     "text": [
      "/Users/crystalzang/Desktop/deltascope_SDS410_2019/deltascope/__init__.py:1173: RuntimeWarning: Degrees of freedom <= 0 for slice.\n",
      "  svar = np.nanvar(lmarr,axis=2)\n"
     ]
    },
    {
     "name": "stdout",
     "output_type": "stream",
     "text": [
      "8 calculation complete\n",
      "11 calculation complete\n"
     ]
    },
    {
     "name": "stderr",
     "output_type": "stream",
     "text": [
      "/Users/crystalzang/Desktop/deltascope_SDS410_2019/deltascope/__init__.py:1179: RuntimeWarning: Degrees of freedom <= 0 for slice.\n",
      "  Lvar.append(np.nanvar(lmarr[i-1:i+2,t],axis=0))\n"
     ]
    },
    {
     "name": "stdout",
     "output_type": "stream",
     "text": [
      "14 calculation complete\n",
      "17 calculation complete\n",
      "20 calculation complete\n",
      "23 calculation complete\n",
      "26 calculation complete\n",
      "29 calculation complete\n",
      "32 calculation complete\n",
      "35 calculation complete\n",
      "38 calculation complete\n",
      "41 calculation complete\n",
      "44 calculation complete\n",
      "47 calculation complete\n",
      "50 calculation complete\n",
      "53 calculation complete\n",
      "56 calculation complete\n",
      "59 calculation complete\n",
      "62 calculation complete\n",
      "65 calculation complete\n",
      "68 calculation complete\n",
      "71 calculation complete\n",
      "74 calculation complete\n",
      "77 calculation complete\n",
      "80 calculation complete\n",
      "83 calculation complete\n",
      "86 calculation complete\n",
      "89 calculation complete\n",
      "92 calculation complete\n",
      "95 calculation complete\n",
      "98 calculation complete\n",
      "Parameter sweep complete\n",
      "CPU times: user 1min 7s, sys: 906 ms, total: 1min 8s\n",
      "Wall time: 1min 9s\n"
     ]
    }
   ],
   "source": [
    "%%time\n",
    "optr = ds.anumSelect(D[s_ctrl][c_ctrl])\n",
    "optr.param_sweep(theta_step, amn=amn, amx=amx, astep=astep,\n",
    "                 rnull=np.nan, DT='r')"
   ]
  },
  {
   "cell_type": "markdown",
   "metadata": {},
   "source": [
    "Plot result of the parameter sweep to get a sense of the results."
   ]
  },
  {
   "cell_type": "code",
   "execution_count": 16,
   "metadata": {},
   "outputs": [],
   "source": [
    "# --------------------------------\n",
    "# -------- User input ------------\n",
    "# --------------------------------\n",
    "\n",
    "# Select degrees of freedom for curve fitting\n",
    "dof = 5"
   ]
  },
  {
   "cell_type": "code",
   "execution_count": 17,
   "metadata": {},
   "outputs": [
    {
     "ename": "ValueError",
     "evalue": "Expected 2D array, got 1D array instead:\narray=[2.94081979 6.05778489 7.56060336 7.1480773  7.02979661 7.37963219\n 7.15116633 5.36818223 6.71384437 5.90689223 3.89229519 4.11428268\n 3.28524977 5.21770138 3.44341405 2.64065206 5.23897622 3.08606208\n 4.349176   3.86570701 2.10488327 3.25776251 3.20685195 1.66644026\n 3.40214812 1.99630173 2.86403437 3.01102522 1.89963029 2.61926149\n 2.34241607 2.4687873  2.58823063].\nReshape your data either using array.reshape(-1, 1) if your data has a single feature or array.reshape(1, -1) if it contains a single sample.",
     "output_type": "error",
     "traceback": [
      "\u001b[0;31m---------------------------------------------------------------------------\u001b[0m",
      "\u001b[0;31mValueError\u001b[0m                                Traceback (most recent call last)",
      "\u001b[0;32m<ipython-input-17-e81f9427a635>\u001b[0m in \u001b[0;36m<module>\u001b[0;34m\u001b[0m\n\u001b[0;32m----> 1\u001b[0;31m \u001b[0mnormalize\u001b[0m\u001b[0;34m(\u001b[0m\u001b[0moptr\u001b[0m\u001b[0;34m.\u001b[0m\u001b[0mMbv\u001b[0m\u001b[0;34m)\u001b[0m\u001b[0;34m\u001b[0m\u001b[0;34m\u001b[0m\u001b[0m\n\u001b[0m",
      "\u001b[0;32m~/anaconda3/lib/python3.7/site-packages/sklearn/preprocessing/data.py\u001b[0m in \u001b[0;36mnormalize\u001b[0;34m(X, norm, axis, copy, return_norm)\u001b[0m\n\u001b[1;32m   1552\u001b[0m \u001b[0;34m\u001b[0m\u001b[0m\n\u001b[1;32m   1553\u001b[0m     X = check_array(X, sparse_format, copy=copy,\n\u001b[0;32m-> 1554\u001b[0;31m                     estimator='the normalize function', dtype=FLOAT_DTYPES)\n\u001b[0m\u001b[1;32m   1555\u001b[0m     \u001b[0;32mif\u001b[0m \u001b[0maxis\u001b[0m \u001b[0;34m==\u001b[0m \u001b[0;36m0\u001b[0m\u001b[0;34m:\u001b[0m\u001b[0;34m\u001b[0m\u001b[0;34m\u001b[0m\u001b[0m\n\u001b[1;32m   1556\u001b[0m         \u001b[0mX\u001b[0m \u001b[0;34m=\u001b[0m \u001b[0mX\u001b[0m\u001b[0;34m.\u001b[0m\u001b[0mT\u001b[0m\u001b[0;34m\u001b[0m\u001b[0;34m\u001b[0m\u001b[0m\n",
      "\u001b[0;32m~/anaconda3/lib/python3.7/site-packages/sklearn/utils/validation.py\u001b[0m in \u001b[0;36mcheck_array\u001b[0;34m(array, accept_sparse, accept_large_sparse, dtype, order, copy, force_all_finite, ensure_2d, allow_nd, ensure_min_samples, ensure_min_features, warn_on_dtype, estimator)\u001b[0m\n\u001b[1;32m    550\u001b[0m                     \u001b[0;34m\"Reshape your data either using array.reshape(-1, 1) if \"\u001b[0m\u001b[0;34m\u001b[0m\u001b[0;34m\u001b[0m\u001b[0m\n\u001b[1;32m    551\u001b[0m                     \u001b[0;34m\"your data has a single feature or array.reshape(1, -1) \"\u001b[0m\u001b[0;34m\u001b[0m\u001b[0;34m\u001b[0m\u001b[0m\n\u001b[0;32m--> 552\u001b[0;31m                     \"if it contains a single sample.\".format(array))\n\u001b[0m\u001b[1;32m    553\u001b[0m \u001b[0;34m\u001b[0m\u001b[0m\n\u001b[1;32m    554\u001b[0m         \u001b[0;31m# in the future np.flexible dtypes will be handled like object dtypes\u001b[0m\u001b[0;34m\u001b[0m\u001b[0;34m\u001b[0m\u001b[0;34m\u001b[0m\u001b[0m\n",
      "\u001b[0;31mValueError\u001b[0m: Expected 2D array, got 1D array instead:\narray=[2.94081979 6.05778489 7.56060336 7.1480773  7.02979661 7.37963219\n 7.15116633 5.36818223 6.71384437 5.90689223 3.89229519 4.11428268\n 3.28524977 5.21770138 3.44341405 2.64065206 5.23897622 3.08606208\n 4.349176   3.86570701 2.10488327 3.25776251 3.20685195 1.66644026\n 3.40214812 1.99630173 2.86403437 3.01102522 1.89963029 2.61926149\n 2.34241607 2.4687873  2.58823063].\nReshape your data either using array.reshape(-1, 1) if your data has a single feature or array.reshape(1, -1) if it contains a single sample."
     ]
    }
   ],
   "source": [
    "normalize(optr.Mbv)"
   ]
  },
  {
   "cell_type": "code",
   "execution_count": 18,
   "metadata": {},
   "outputs": [
    {
     "data": {
      "text/plain": [
       "<matplotlib.legend.Legend at 0x1c254df6a0>"
      ]
     },
     "execution_count": 18,
     "metadata": {},
     "output_type": "execute_result"
    },
    {
     "data": {
      "image/png": "[encoded data removed]",
      "text/plain": [
       "<Figure size 432x288 with 1 Axes>"
      ]
     },
     "metadata": {
      "needs_background": "light"
     },
     "output_type": "display_data"
    }
   ],
   "source": [
    "x = np.arange(amn,amx,astep)\n",
    "fig,ax = plt.subplots()\n",
    "\n",
    "# Fit a curve to bin variance values\n",
    "pbv = np.polyfit(x, optr.Mbv, dof)\n",
    "fbv = np.poly1d(pbv)\n",
    "ax.plot(x, fbv(x), c='b', label='Bin Variance')\n",
    "\n",
    "# Fit curve to sample variance values\n",
    "psv = np.polyfit(x, optr.Msv, dof)\n",
    "fsv = np.poly1d(psv)\n",
    "ax.plot(x, fsv(x), c='g', label='Sample Variance')\n",
    "\n",
    "# Plot sum of sample and bin variances\n",
    "ax.plot(x, fsv(x)+fbv(x), c='c', label='Total Variance')\n",
    "ax.legend()"
   ]
  },
  {
   "cell_type": "markdown",
   "metadata": {},
   "source": [
    "Now we can calculate the optimal bin size with the help of the user specifying a best guess for the optimal value."
   ]
  },
  {
   "cell_type": "code",
   "execution_count": 19,
   "metadata": {},
   "outputs": [],
   "source": [
    "# --------------------------------\n",
    "# -------- User input ------------\n",
    "# --------------------------------\n",
    "\n",
    "# Guess the approximate optimal value\n",
    "guess = 87"
   ]
  },
  {
   "cell_type": "code",
   "execution_count": 20,
   "metadata": {},
   "outputs": [
    {
     "name": "stdout",
     "output_type": "stream",
     "text": [
      "89.60306848031\n"
     ]
    }
   ],
   "source": [
    "opt = minimize(fbv+fsv, guess)\n",
    "ax.axvline(opt.x, c='r', label='Optimum: '+str(np.round(opt.x[0], 2)))\n",
    "print(opt.x[0])"
   ]
  },
  {
   "cell_type": "markdown",
   "metadata": {},
   "source": [
    "# Calculate landmark bins\n",
    "Based on the analysis above, we can select the optimal value of alpha bins."
   ]
  },
  {
   "cell_type": "code",
   "execution_count": 22,
   "metadata": {},
   "outputs": [],
   "source": [
    "# --------------------------------\n",
    "# -------- User input ------------\n",
    "# --------------------------------\n",
    "\n",
    "# Pick an integer value for bin number based on results above\n",
    "anum = 87\n",
    "\n",
    "# Specify the percentiles which will be used to calculate landmarks\n",
    "percbins = [50]"
   ]
  },
  {
   "cell_type": "markdown",
   "metadata": {},
   "source": [
    "Calculate landmark bins based on user input parameters and the previously specified control sample."
   ]
  },
  {
   "cell_type": "code",
   "execution_count": 23,
   "metadata": {},
   "outputs": [
    {
     "name": "stdout",
     "output_type": "stream",
     "text": [
      "Alpha bins\n",
      "[-5.39632237e+01 -5.27082650e+01 -5.14533063e+01 -5.01983476e+01\n",
      " -4.89433889e+01 -4.76884302e+01 -4.64334715e+01 -4.51785129e+01\n",
      " -4.39235542e+01 -4.26685955e+01 -4.14136368e+01 -4.01586781e+01\n",
      " -3.89037194e+01 -3.76487607e+01 -3.63938020e+01 -3.51388433e+01\n",
      " -3.38838846e+01 -3.26289260e+01 -3.13739673e+01 -3.01190086e+01\n",
      " -2.88640499e+01 -2.76090912e+01 -2.63541325e+01 -2.50991738e+01\n",
      " -2.38442151e+01 -2.25892564e+01 -2.13342977e+01 -2.00793390e+01\n",
      " -1.88243804e+01 -1.75694217e+01 -1.63144630e+01 -1.50595043e+01\n",
      " -1.38045456e+01 -1.25495869e+01 -1.12946282e+01 -1.00396695e+01\n",
      " -8.78471083e+00 -7.52975214e+00 -6.27479345e+00 -5.01983476e+00\n",
      " -3.76487607e+00 -2.50991738e+00 -1.25495869e+00 -7.10542736e-15\n",
      "  1.25495869e+00  2.50991738e+00  3.76487607e+00  5.01983476e+00\n",
      "  6.27479345e+00  7.52975214e+00  8.78471083e+00  1.00396695e+01\n",
      "  1.12946282e+01  1.25495869e+01  1.38045456e+01  1.50595043e+01\n",
      "  1.63144630e+01  1.75694217e+01  1.88243804e+01  2.00793390e+01\n",
      "  2.13342977e+01  2.25892564e+01  2.38442151e+01  2.50991738e+01\n",
      "  2.63541325e+01  2.76090912e+01  2.88640499e+01  3.01190086e+01\n",
      "  3.13739673e+01  3.26289260e+01  3.38838846e+01  3.51388433e+01\n",
      "  3.63938020e+01  3.76487607e+01  3.89037194e+01  4.01586781e+01\n",
      "  4.14136368e+01  4.26685955e+01  4.39235542e+01  4.51785129e+01\n",
      "  4.64334715e+01  4.76884302e+01  4.89433889e+01  5.01983476e+01\n",
      "  5.14533063e+01  5.27082650e+01  5.39632237e+01]\n",
      "Theta bins\n",
      "[-3.14159265 -2.35619449 -1.57079633 -0.78539816  0.          0.78539816\n",
      "  1.57079633  2.35619449  3.14159265]\n"
     ]
    }
   ],
   "source": [
    "lm = ds.landmarks(percbins=percbins, rnull=np.nan)\n",
    "lm.calc_bins(D[s_ctrl][c_ctrl], anum, theta_step)\n",
    "\n",
    "print('Alpha bins')\n",
    "print(lm.acbins)\n",
    "print('Theta bins')\n",
    "print(lm.tbins)"
   ]
  },
  {
   "cell_type": "markdown",
   "metadata": {},
   "source": [
    "# Calculate landmarks"
   ]
  },
  {
   "cell_type": "code",
   "execution_count": 24,
   "metadata": {},
   "outputs": [
    {
     "name": "stderr",
     "output_type": "stream",
     "text": [
      "  0%|          | 0/2 [00:00<?, ?it/s]\n",
      "  0%|          | 0/1 [00:00<?, ?it/s]\u001b[A"
     ]
    },
    {
     "name": "stdout",
     "output_type": "stream",
     "text": [
      "wt AT\n"
     ]
    },
    {
     "name": "stderr",
     "output_type": "stream",
     "text": [
      "\n",
      "100%|██████████| 1/1 [00:03<00:00,  3.43s/it]\u001b[A\n",
      " 50%|█████     | 1/2 [00:03<00:03,  3.44s/it]\n",
      "  0%|          | 0/1 [00:00<?, ?it/s]\u001b[A"
     ]
    },
    {
     "name": "stdout",
     "output_type": "stream",
     "text": [
      "wt ZRF\n"
     ]
    },
    {
     "name": "stderr",
     "output_type": "stream",
     "text": [
      "\n",
      "100%|██████████| 1/1 [00:03<00:00,  3.64s/it]\u001b[A\n",
      "100%|██████████| 2/2 [00:07<00:00,  3.50s/it]\n"
     ]
    }
   ],
   "source": [
    "lmdf = pd.DataFrame()\n",
    "\n",
    "# Loop through each pair of stype and channels\n",
    "for s,c in tqdm.tqdm(data_pairs):\n",
    "    print(s,c)\n",
    "    # Calculate landmarks for each sample with this data pair\n",
    "    for k,df in tqdm.tqdm(D[s][c].items()):\n",
    "        lmdf = lm.calc_perc(df, k, '-'.join([s,c]), lmdf)\n",
    "        \n",
    "# Set timestamp for saving data\n",
    "tstamp = time.strftime(\"%m-%d-%H-%M\",time.localtime())\n",
    "        \n",
    "# Save completed landmarks to a csv file\n",
    "lmdf.to_csv(tstamp+'_landmarks.csv')\n",
    "\n",
    "# Save landmark bins to json file\n",
    "bins = {\n",
    "    'acbins':list(lm.acbins),\n",
    "    'tbins':list(lm.tbins)\n",
    "}\n",
    "with open(tstamp+'_landmarks_bins.json', 'w') as outfile:\n",
    "    json.dump(bins, outfile)"
   ]
  }
 ],
 "metadata": {
  "kernelspec": {
   "display_name": "Python 3",
   "language": "python",
   "name": "python3"
  },
  "language_info": {
   "codemirror_mode": {
    "name": "ipython",
    "version": 3
   },
   "file_extension": ".py",
   "mimetype": "text/x-python",
   "name": "python",
   "nbconvert_exporter": "python",
   "pygments_lexer": "ipython3",
   "version": "3.7.1"
  }
 },
 "nbformat": 4,
 "nbformat_minor": 2
}
