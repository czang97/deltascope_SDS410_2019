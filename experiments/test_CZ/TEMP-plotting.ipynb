{
 "cells": [
  {
   "cell_type": "code",
   "execution_count": null,
   "metadata": {},
   "outputs": [],
   "source": [
    "import os\n",
    "import tqdm"
   ]
  },
  {
   "cell_type": "code",
   "execution_count": null,
   "metadata": {},
   "outputs": [],
   "source": [
    "# --------------------------------\n",
    "# -------- User input ------------\n",
    "# --------------------------------\n",
    "\n",
    "# Specify path to exported landmark data\n",
    "lmpath = os.path.abspath('landmark.csv')"
   ]
  },
  {
   "cell_type": "code",
   "execution_count": null,
   "metadata": {},
   "outputs": [],
   "source": [
    "# Load landmarks from csv\n",
    "oldlm = pd.read_csv(lmpath)"
   ]
  },
  {
   "cell_type": "markdown",
   "metadata": {},
   "source": [
    "We will sort landmark data according to stype and organize it in a two tiered dictionary according to sample type (s) and channel (c)."
   ]
  },
  {
   "cell_type": "code",
   "execution_count": 12,
   "metadata": {
    "collapsed": true
   },
   "outputs": [],
   "source": [
    "Dlm = {}\n",
    "for stype in tqdm.tqdm(oldlm.stype.unique()):\n",
    "    # These two lines may need to be modified based on stype structure\n",
    "    s = stype.split('_')[0]\n",
    "    c = stype.split('_')[1]\n",
    "    \n",
    "    # Add sample type dictionary if not already present\n",
    "    if s not in Dlm.keys():\n",
    "        Dlm[s] = {}\n",
    "    \n",
    "    # Save sample specific landmark data to dictionary\n",
    "    Dlm[s][c] = oldlm[oldlm.stype==stype]"
   ]
  }
 ],
 "metadata": {
  "kernelspec": {
   "display_name": "Python [conda env:deltascope]",
   "language": "python",
   "name": "conda-env-deltascope-py"
  },
  "language_info": {
   "codemirror_mode": {
    "name": "ipython",
    "version": 3
   },
   "file_extension": ".py",
   "mimetype": "text/x-python",
   "name": "python",
   "nbconvert_exporter": "python",
   "pygments_lexer": "ipython3",
   "version": "3.7.1"
  }
 },
 "nbformat": 4,
 "nbformat_minor": 2
}
